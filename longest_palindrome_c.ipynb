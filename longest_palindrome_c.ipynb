{
  "nbformat": 4,
  "nbformat_minor": 0,
  "metadata": {
    "colab": {
      "name": "longest_palindrome_c.ipynb",
      "provenance": [],
      "authorship_tag": "ABX9TyOd3ZKl66idKTKh8Zvocmtf",
      "include_colab_link": true
    },
    "kernelspec": {
      "name": "python3",
      "display_name": "Python 3"
    },
    "language_info": {
      "name": "python"
    }
  },
  "cells": [
    {
      "cell_type": "markdown",
      "metadata": {
        "id": "view-in-github",
        "colab_type": "text"
      },
      "source": [
        "<a href=\"https://colab.research.google.com/github/AmrAboshaisha/CS212_Design_of_computer_programs/blob/main/longest_palindrome_c.ipynb\" target=\"_parent\"><img src=\"https://colab.research.google.com/assets/colab-badge.svg\" alt=\"Open In Colab\"/></a>"
      ]
    },
    {
      "cell_type": "code",
      "execution_count": 1,
      "metadata": {
        "id": "OfulUDpvJkxM"
      },
      "outputs": [],
      "source": [
        "# --------------\n",
        "# User Instructions\n",
        "#\n",
        "# Write a function, longest_subpalindrome_slice(text) that takes \n",
        "# a string as input and returns the i and j indices that \n",
        "# correspond to the beginning and end indices of the longest \n",
        "# palindrome in the string. \n",
        "#\n",
        "# Grading Notes:\n",
        "# \n",
        "# You will only be marked correct if your function runs \n",
        "# efficiently enough. We will be measuring efficency by counting\n",
        "# the number of times you access each string. That count must be\n",
        "# below a certain threshold to be marked correct.\n",
        "#\n",
        "# Please do not use regular expressions to solve this quiz!"
      ]
    },
    {
      "cell_type": "code",
      "source": [
        "import itertools"
      ],
      "metadata": {
        "id": "ngOQIsaI20Hj"
      },
      "execution_count": 2,
      "outputs": []
    },
    {
      "cell_type": "markdown",
      "source": [
        "### Srategy:\n",
        "\n",
        "- Find unique letters in text\n",
        "- Check all positions where each occurs\n",
        "- Find all pairs of possible positions where a letter would be the start and end\n",
        "- Take the text in-between these 2 positions and check if it's palindrome\n",
        "- Update if you find a longer one "
      ],
      "metadata": {
        "id": "Ggz3-gdrJ5HK"
      }
    },
    {
      "cell_type": "code",
      "source": [
        "def get_final_positions(text):\n",
        "  \"\"\"Returns all possible pairs of positions for each unique letter in the text where the same letter \n",
        "  would be the start and the end\"\"\"\n",
        "  l1 = [[i for i,l in enumerate(text) if l == letter] for letter in set(text)]\n",
        "  l2 = [list(itertools.combinations(x,2)) for x in l1 if len(x) > 1]\n",
        "  return [item for sublist in l2 for item in sublist]"
      ],
      "metadata": {
        "id": "L0UKxGuT_yyn"
      },
      "execution_count": 3,
      "outputs": []
    },
    {
      "cell_type": "code",
      "source": [
        "def longest_subpalindrome_slice(text):\n",
        "  \"Return (i, j) such that text[i:j] is the longest palindrome in text.\"\n",
        "  longest_palindrome = ''\n",
        "  longest_pair = (0,0)\n",
        "  text = text.lower()\n",
        "  for pair in get_final_positions(text):\n",
        "    token = text[pair[0]:pair[1]+1]\n",
        "    if token == token[::-1] and len(token)>len(longest_palindrome):\n",
        "      longest_palindrome = token\n",
        "      longest_pair = (pair[0],pair[1]+1)\n",
        "  return longest_pair"
      ],
      "metadata": {
        "id": "o6ZmCyXlwjyZ"
      },
      "execution_count": 4,
      "outputs": []
    },
    {
      "cell_type": "code",
      "source": [
        "def test():\n",
        "  L = longest_subpalindrome_slice\n",
        "  assert L('racecar') == (0, 7)\n",
        "  assert L('Racecar') == (0, 7)\n",
        "  assert L('RacecarX') == (0, 7)\n",
        "  assert L('Race carr') == (7, 9)\n",
        "  assert L('') == (0, 0)\n",
        "  assert L('something rac e car going') == (8,21)\n",
        "  assert L('xxxxx') == (0, 5)\n",
        "  assert L('Mad am I ma dam.') == (0, 15)\n",
        "  return 'tests pass'\n",
        "\n",
        "print (test())"
      ],
      "metadata": {
        "colab": {
          "base_uri": "https://localhost:8080/"
        },
        "id": "jl8fXrnywlO0",
        "outputId": "19976ed1-0266-426e-f870-daaa56fbdf23"
      },
      "execution_count": 6,
      "outputs": [
        {
          "output_type": "stream",
          "name": "stdout",
          "text": [
            "tests pass\n"
          ]
        }
      ]
    },
    {
      "cell_type": "code",
      "source": [
        ""
      ],
      "metadata": {
        "id": "QFLvNEIpKrIT"
      },
      "execution_count": null,
      "outputs": []
    }
  ]
}