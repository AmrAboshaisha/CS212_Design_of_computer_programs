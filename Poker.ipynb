{
  "nbformat": 4,
  "nbformat_minor": 0,
  "metadata": {
    "colab": {
      "name": "HW1_Poker.ipynb",
      "provenance": [],
      "authorship_tag": "ABX9TyPgnLNceaRDT6gG38uOrKVr",
      "include_colab_link": true
    },
    "kernelspec": {
      "name": "python3",
      "display_name": "Python 3"
    },
    "language_info": {
      "name": "python"
    }
  },
  "cells": [
    {
      "cell_type": "markdown",
      "metadata": {
        "id": "view-in-github",
        "colab_type": "text"
      },
      "source": [
        "<a href=\"https://colab.research.google.com/github/AmrAboshaisha/CS212_Design_of_computer_programs/blob/main/HW1_Poker.ipynb\" target=\"_parent\"><img src=\"https://colab.research.google.com/assets/colab-badge.svg\" alt=\"Open In Colab\"/></a>"
      ]
    },
    {
      "cell_type": "markdown",
      "source": [
        "### Homework 1 - problems 1&2 for CS212 \n",
        "\n",
        "- P1: Write a function that takes a 7-card hand a returns the highest ranking 5-card hand.\n",
        "\n",
        "- P2: Write a function that takes a 7-card hand that may contain red or black jokers, and returns the best 5-card hand. A black joker can be replaced with any black card and a red joker with any red."
      ],
      "metadata": {
        "id": "jLWOZjDVuChR"
      }
    },
    {
      "cell_type": "code",
      "execution_count": 9,
      "metadata": {
        "id": "OPndvSzlKicV"
      },
      "outputs": [],
      "source": [
        "import itertools"
      ]
    },
    {
      "cell_type": "code",
      "source": [
        "def hand_rank(hand):\n",
        "    \"Return a value indicating the ranking of a hand.\"\n",
        "    ranks = card_ranks(hand) \n",
        "    if straight(ranks) and flush(hand):\n",
        "        return (8, max(ranks))\n",
        "    elif kind(4, ranks):\n",
        "        return (7, kind(4, ranks), kind(1, ranks))\n",
        "    elif kind(3, ranks) and kind(2, ranks):\n",
        "        return (6, kind(3, ranks), kind(2, ranks))\n",
        "    elif flush(hand):\n",
        "        return (5, ranks)\n",
        "    elif straight(ranks):\n",
        "        return (4, max(ranks))\n",
        "    elif kind(3, ranks):\n",
        "        return (3, kind(3, ranks), ranks)\n",
        "    elif two_pair(ranks):\n",
        "        return (2, two_pair(ranks), ranks)\n",
        "    elif kind(2, ranks):\n",
        "        return (1, kind(2, ranks), ranks)\n",
        "    else:\n",
        "        return (0, ranks)\n",
        "    \n",
        "def card_ranks(hand):\n",
        "    \"Return a list of the ranks, sorted with higher first.\"\n",
        "    ranks = ['--23456789TJQKA'.index(r) for r, s in hand]\n",
        "    ranks.sort(reverse = True)\n",
        "    return [5, 4, 3, 2, 1] if (ranks == [14, 5, 4, 3, 2]) else ranks\n",
        "\n",
        "def flush(hand):\n",
        "    \"Return True if all the cards have the same suit.\"\n",
        "    suits = [s for r,s in hand]\n",
        "    return len(set(suits)) == 1\n",
        "\n",
        "def straight(ranks):\n",
        "    \"\"\"Return True if the ordered \n",
        "    ranks form a 5-card straight.\"\"\"\n",
        "    return (max(ranks)-min(ranks) == 4) and len(set(ranks)) == 5\n",
        "\n",
        "def kind(n, ranks):\n",
        "    \"\"\"Return the first rank that this hand has \n",
        "    exactly n-of-a-kind of. Return None if there \n",
        "    is no n-of-a-kind in the hand.\"\"\"\n",
        "    for r in ranks:\n",
        "        if ranks.count(r) == n: return r\n",
        "    return None\n",
        "\n",
        "def two_pair(ranks):\n",
        "    \"\"\"If there are two pair here, return the two \n",
        "    ranks of the two pairs, else None.\"\"\"\n",
        "    pair = kind(2, ranks)\n",
        "    lowpair = kind(2, list(reversed(ranks)))\n",
        "    if pair and lowpair != pair:\n",
        "        return (pair, lowpair)\n",
        "    else:\n",
        "        return None \n"
      ],
      "metadata": {
        "id": "53hP0CmOKnor"
      },
      "execution_count": 10,
      "outputs": []
    },
    {
      "cell_type": "code",
      "source": [
        "def best_hand(hand): \n",
        "  return max(itertools.combinations(hand,5) , key = hand_rank)"
      ],
      "metadata": {
        "id": "_lItrwM5Kpsm"
      },
      "execution_count": 11,
      "outputs": []
    },
    {
      "cell_type": "code",
      "source": [
        "\n",
        "def test_best_hand():\n",
        "    assert (sorted(best_hand(\"6C 7C 8C 9C TC 5C JS\".split()))\n",
        "            == ['6C', '7C', '8C', '9C', 'TC'])\n",
        "    assert (sorted(best_hand(\"TD TC TH 7C 7D 8C 8S\".split()))\n",
        "            == ['8C', '8S', 'TC', 'TD', 'TH'])\n",
        "    assert (sorted(best_hand(\"JD TC TH 7C 7D 7S 7H\".split()))\n",
        "            == ['7C', '7D', '7H', '7S', 'JD'])\n",
        "    return 'test_best_hand passes'\n",
        "\n",
        "print (test_best_hand())"
      ],
      "metadata": {
        "colab": {
          "base_uri": "https://localhost:8080/"
        },
        "id": "jUz2FcwtLGjM",
        "outputId": "d541fa0e-a5e8-4076-8eb2-f1be98543e20"
      },
      "execution_count": 12,
      "outputs": [
        {
          "output_type": "stream",
          "name": "stdout",
          "text": [
            "test_best_hand passes\n"
          ]
        }
      ]
    },
    {
      "cell_type": "code",
      "source": [
        "def find_joker(hand):\n",
        "  \"\"\" Returns a list of all possible 7 card hands after replacing jokers\"\"\"\n",
        "  #replacements\n",
        "  bjr = [r+s for r in '23456789TJQKA' for s in 'SC'] #black joker replacements\n",
        "  rjr = [r+s for r in '23456789TJQKA' for s in 'HD'] #red joker replacements\n",
        "  if ('?R' in hand and '?B' in hand):\n",
        "    # print('Both found')\n",
        "    # bdiff = list_diff(bjr,hand)\n",
        "    # rdiff = list_diff(rjr,hand)\n",
        "    # replacement_pairs = list(itertools.product(bdiff,rdiff))\n",
        "    replacement_pairs = list(itertools.product(bjr,rjr))\n",
        "\n",
        "    hand.remove('?R')\n",
        "    hand.remove('?B')\n",
        "    seven_card_hands = [hand + list(pair) for pair in replacement_pairs]\n",
        "\n",
        "  elif ('?R' in hand and '?B' not in hand):\n",
        "    # print('Red only')\n",
        "    # diff = list_diff(rjr,hand)\n",
        "    hand.remove('?R')\n",
        "    seven_card_hands = [hand + [card] for card in rjr]\n",
        "\n",
        "  elif ('?B'in hand and '?R' not in hand):\n",
        "    # print('Black only')\n",
        "    # diff = list_diff(bjr,hand)\n",
        "    hand.remove('?B')\n",
        "    seven_card_hands = [hand + [card] for card in bjr]\n",
        "  else:\n",
        "    # print('None Found')\n",
        "    seven_card_hands = [hand]\n",
        "\n",
        "  return seven_card_hands\n"
      ],
      "metadata": {
        "id": "QfFeZak2P9K3"
      },
      "execution_count": 19,
      "outputs": []
    },
    {
      "cell_type": "code",
      "source": [
        "#find best 5 card hand from a list of 7 card hands\n",
        "def best_of_five(hands_list):\n",
        "  best_fives = [list(max(itertools.combinations(hand,5) , key = hand_rank)) for hand in hands_list]\n",
        "  return max(best_fives,key=hand_rank)\n"
      ],
      "metadata": {
        "id": "faEM6ivgTs2u"
      },
      "execution_count": 20,
      "outputs": []
    },
    {
      "cell_type": "code",
      "source": [
        "def best_wild_hand(hand):\n",
        "    \"Try all values for jokers in all 5-card selections.\"\n",
        "    hands_list = find_joker(hand)\n",
        "    best_fives = [list(max(itertools.combinations(hand,5) , key = hand_rank)) for hand in hands_list]\n",
        "    return max(best_fives,key=hand_rank)"
      ],
      "metadata": {
        "id": "e-f3bZHhYWIU"
      },
      "execution_count": 21,
      "outputs": []
    },
    {
      "cell_type": "code",
      "source": [
        "def test_best_wild_hand():\n",
        "    assert (sorted(best_wild_hand(\"6C 7C 8C 9C TC 5C ?B\".split()))\n",
        "            == ['7C', '8C', '9C', 'JC', 'TC'])\n",
        "    assert (sorted(best_wild_hand(\"TD TC 5H 5C 7C ?R ?B\".split()))\n",
        "            == ['7C', 'TC', 'TD', 'TH', 'TS'])\n",
        "    assert (sorted(best_wild_hand(\"JD TC TH 7C 7D 7S 7H\".split()))\n",
        "            == ['7C', '7D', '7H', '7S', 'JD'])\n",
        "    return 'test_best_wild_hand passes'"
      ],
      "metadata": {
        "id": "tQUrFUSJPTxH"
      },
      "execution_count": 22,
      "outputs": []
    },
    {
      "cell_type": "code",
      "source": [
        "print(test_best_wild_hand())"
      ],
      "metadata": {
        "colab": {
          "base_uri": "https://localhost:8080/"
        },
        "id": "TLUtXh-cvFCr",
        "outputId": "c4f693a0-c21b-4c7d-b63d-5b45cb8b6dbe"
      },
      "execution_count": 23,
      "outputs": [
        {
          "output_type": "stream",
          "name": "stdout",
          "text": [
            "test_best_wild_hand passes\n"
          ]
        }
      ]
    }
  ]
}
