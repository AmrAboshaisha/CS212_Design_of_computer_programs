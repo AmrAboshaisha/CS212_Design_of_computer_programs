{
  "nbformat": 4,
  "nbformat_minor": 0,
  "metadata": {
    "colab": {
      "name": "floor_puzzle.ipynb",
      "provenance": [],
      "collapsed_sections": [],
      "authorship_tag": "ABX9TyO4/MxFvKZXxbmfJP1ZzCGJ",
      "include_colab_link": true
    },
    "kernelspec": {
      "name": "python3",
      "display_name": "Python 3"
    },
    "language_info": {
      "name": "python"
    }
  },
  "cells": [
    {
      "cell_type": "markdown",
      "metadata": {
        "id": "view-in-github",
        "colab_type": "text"
      },
      "source": [
        "<a href=\"https://colab.research.google.com/github/AmrAboshaisha/CS212_Design_of_computer_programs/blob/main/floor_puzzle.ipynb\" target=\"_parent\"><img src=\"https://colab.research.google.com/assets/colab-badge.svg\" alt=\"Open In Colab\"/></a>"
      ]
    },
    {
      "cell_type": "code",
      "execution_count": 21,
      "metadata": {
        "id": "EPzbiHIMo1w-"
      },
      "outputs": [],
      "source": [
        "#------------------\n",
        "# User Instructions\n",
        "#\n",
        "# Hopper, Kay, Liskov, Perlis, and Ritchie live on \n",
        "# different floors of a five-floor apartment building. \n",
        "#\n",
        "# Hopper does not live on the top floor. \n",
        "# Kay does not live on the bottom floor. \n",
        "# Liskov does not live on either the top or the bottom floor. \n",
        "# Perlis lives on a higher floor than does Kay. \n",
        "# Ritchie does not live on a floor adjacent to Liskov's. \n",
        "# Liskov does not live on a floor adjacent to Kay's. \n",
        "# \n",
        "# Where does everyone live?  \n",
        "# \n",
        "# Write a function floor_puzzle() that returns a list of\n",
        "# five floor numbers denoting the floor of Hopper, Kay, \n",
        "# Liskov, Perlis, and Ritchie.\n"
      ]
    },
    {
      "cell_type": "code",
      "source": [
        "import itertools"
      ],
      "metadata": {
        "id": "ZD-iZSoSpCR5"
      },
      "execution_count": 22,
      "outputs": []
    },
    {
      "cell_type": "code",
      "source": [
        "def floor_puzzle():\n",
        "    floors = list(itertools.permutations(list(range(5))))\n",
        "    return list(next((Hopper, Kay, Liskov, Perlis, Ritchie)\n",
        "    for (Hopper, Kay, Liskov, Perlis, Ritchie) in floors\n",
        "    if Hopper != 4 \n",
        "    if Kay != 0 \n",
        "    if (Liskov !=4 and Liskov !=0)\n",
        "    if Perlis - Kay >0 \n",
        "    if abs(Ritchie - Liskov) > 1 \n",
        "    if abs(Liskov - Kay) > 1\n",
        "    ))"
      ],
      "metadata": {
        "id": "PEbXURTvpC7M"
      },
      "execution_count": 23,
      "outputs": []
    },
    {
      "cell_type": "code",
      "source": [
        "floor_puzzle()"
      ],
      "metadata": {
        "colab": {
          "base_uri": "https://localhost:8080/"
        },
        "id": "3nlTut7Jq1Y7",
        "outputId": "75f08d9c-99df-4d52-a7f8-85eae8095248"
      },
      "execution_count": 24,
      "outputs": [
        {
          "output_type": "execute_result",
          "data": {
            "text/plain": [
              "[2, 1, 3, 4, 0]"
            ]
          },
          "metadata": {},
          "execution_count": 24
        }
      ]
    },
    {
      "cell_type": "code",
      "source": [
        ""
      ],
      "metadata": {
        "id": "UQRI1_n9uiQX"
      },
      "execution_count": null,
      "outputs": []
    }
  ]
}